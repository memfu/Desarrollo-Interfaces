{
 "cells": [
  {
   "cell_type": "code",
   "execution_count": 44,
   "id": "d627884d-61cf-44dc-b8c3-9a053503b4e1",
   "metadata": {},
   "outputs": [],
   "source": [
    "import re\n",
    "from datetime import datetime\n",
    "\n",
    "def validar_fecha(fecha):\n",
    "        \"\"\" \n",
    "        Esta función verifica que la fecha tenga el formato YYYY-MM-DD y sea válida\n",
    "\n",
    "        Parámetros:\n",
    "        fecha (str): La fecha en formato 'YYYY-MM-DD'.\n",
    "    \n",
    "        Retorna:\n",
    "        bool: 'True' si la fecha es válida, 'False' en caso contrario.\n",
    "    \n",
    "        Ejemplos:\n",
    "        >>> validar_fecha('2025-03-02')\n",
    "        True\n",
    "        >>> validar_fecha('25-25-11')\n",
    "        False\n",
    "        >>> validar_fecha('02-03-2025')\n",
    "        True\n",
    "        \"\"\"\n",
    "        if not re.match(r\"^\\d{4}-\\d{2}-\\d{2}$\", fecha):  # Expresión regular para formato YYYY-MM-DD\n",
    "            return False\n",
    "        try:\n",
    "            datetime.strptime(fecha, \"%Y-%m-%d\")  # Comprueba si la fecha es válida\n",
    "            return True\n",
    "        except ValueError:\n",
    "            return False"
   ]
  },
  {
   "cell_type": "code",
   "execution_count": 40,
   "id": "406670b8-8c6a-4917-9051-d1f0eb1464a2",
   "metadata": {},
   "outputs": [
    {
     "name": "stdout",
     "output_type": "stream",
     "text": [
      "Help on function validar_fecha in module __main__:\n",
      "\n",
      "validar_fecha(fecha)\n",
      "    Esta función verifica que la fecha tenga el formato YYYY-MM-DD y sea válida\n",
      "    >>> validar_fecha('2025-03-02')\n",
      "    True\n",
      "    >>> validar_fecha('25-25-11')\n",
      "    False\n",
      "\n"
     ]
    }
   ],
   "source": [
    "help(validar_fecha)"
   ]
  },
  {
   "cell_type": "code",
   "execution_count": 52,
   "id": "b5a40b7e-83fe-4d19-bbcc-38424a40e476",
   "metadata": {},
   "outputs": [
    {
     "name": "stdout",
     "output_type": "stream",
     "text": [
      "**********************************************************************\n",
      "File \"__main__\", line 11, in __main__.validar_fecha\n",
      "Failed example:\n",
      "    validar_fecha('02-03-2025')\n",
      "Expected:\n",
      "    True\n",
      "Got:\n",
      "    False\n",
      "**********************************************************************\n",
      "1 items had failures:\n",
      "   1 of   3 in __main__.validar_fecha\n",
      "***Test Failed*** 1 failures.\n"
     ]
    }
   ],
   "source": [
    "if __name__ == \"__main__\":\n",
    "    import doctest\n",
    "    doctest.testmod()"
   ]
  },
  {
   "cell_type": "code",
   "execution_count": 72,
   "id": "ed20d025-2452-4797-a696-e6440bd1cddc",
   "metadata": {},
   "outputs": [],
   "source": [
    "def calcular_irpf(salario):\n",
    "    \"\"\"\n",
    "    Calcula el porcentaje de IRPF según el salario anual.\n",
    "\n",
    "    Parámetros:\n",
    "    salario (float): Salario anual en euros.\n",
    "\n",
    "    Retorna:\n",
    "    float: Tipo de IRPF aplicable.\n",
    "\n",
    "    Ejemplos:\n",
    "    >>> calcular_irpf(12000)\n",
    "    19\n",
    "    >>> calcular_irpf(15000)\n",
    "    24\n",
    "    >>> calcular_irpf(40000)\n",
    "    37\n",
    "    >>> calcular_irpf(100000)\n",
    "    45\n",
    "    >>> calcular_irpf(350000)\n",
    "    47\n",
    "    \"\"\"\n",
    "    if salario <= 12450:\n",
    "        return 19\n",
    "    elif salario <= 20200:\n",
    "        return 24\n",
    "    elif salario <= 35200:\n",
    "        return 30\n",
    "    elif salario <= 60000:\n",
    "        return 37\n",
    "    elif salario <= 300000:\n",
    "        return 45\n",
    "    else:\n",
    "        return 47\n"
   ]
  },
  {
   "cell_type": "code",
   "execution_count": 74,
   "id": "68bdfba6-1cbb-40ea-babc-6d2639c6d2ff",
   "metadata": {},
   "outputs": [
    {
     "name": "stdout",
     "output_type": "stream",
     "text": [
      "Help on function calcular_irpf in module __main__:\n",
      "\n",
      "calcular_irpf(salario)\n",
      "    Calcula el porcentaje de IRPF según el salario anual.\n",
      "\n",
      "    Parámetros:\n",
      "    salario (float): Salario anual en euros.\n",
      "\n",
      "    Retorna:\n",
      "    float: Tipo de IRPF aplicable.\n",
      "\n",
      "    Ejemplos:\n",
      "    >>> calcular_irpf(12000)\n",
      "    19\n",
      "    >>> calcular_irpf(15000)\n",
      "    24\n",
      "    >>> calcular_irpf(40000)\n",
      "    37\n",
      "    >>> calcular_irpf(100000)\n",
      "    45\n",
      "    >>> calcular_irpf(350000)\n",
      "    47\n",
      "\n"
     ]
    }
   ],
   "source": [
    "help(calcular_irpf)"
   ]
  },
  {
   "cell_type": "code",
   "execution_count": 78,
   "id": "2ccd4f9d-1fe1-4c88-a756-e7acc816c84b",
   "metadata": {},
   "outputs": [
    {
     "name": "stdout",
     "output_type": "stream",
     "text": [
      "**********************************************************************\n",
      "File \"__main__\", line 11, in __main__.validar_fecha\n",
      "Failed example:\n",
      "    validar_fecha('02-03-2025')\n",
      "Expected:\n",
      "    True\n",
      "Got:\n",
      "    False\n",
      "**********************************************************************\n",
      "1 items had failures:\n",
      "   1 of   3 in __main__.validar_fecha\n",
      "***Test Failed*** 1 failures.\n"
     ]
    },
    {
     "data": {
      "text/plain": [
       "TestResults(failed=1, attempted=8)"
      ]
     },
     "execution_count": 78,
     "metadata": {},
     "output_type": "execute_result"
    }
   ],
   "source": [
    "import doctest\n",
    "doctest.testmod()"
   ]
  },
  {
   "cell_type": "code",
   "execution_count": 80,
   "id": "f024e11c-359d-478a-ace3-e518a00af423",
   "metadata": {},
   "outputs": [],
   "source": [
    "def calcular_irpf(salario):\n",
    "    \"\"\"\n",
    "    Calcula el porcentaje de IRPF según el salario anual.\n",
    "\n",
    "    >>> calcular_irpf(12000)\n",
    "    18  # Este valor es incorrecto a propósito para ver si `doctest` lo detecta\n",
    "    \"\"\"\n",
    "    if salario <= 12450:\n",
    "        return 19\n",
    "    elif salario <= 20200:\n",
    "        return 24\n",
    "    elif salario <= 35200:\n",
    "        return 30\n",
    "    elif salario <= 60000:\n",
    "        return 37\n",
    "    elif salario <= 300000:\n",
    "        return 45\n",
    "    else:\n",
    "        return 47\n"
   ]
  },
  {
   "cell_type": "code",
   "execution_count": null,
   "id": "2b03b55f-e57a-4958-8ab9-e7daef797221",
   "metadata": {},
   "outputs": [],
   "source": []
  },
  {
   "cell_type": "code",
   "execution_count": null,
   "id": "cf9d86c0-1615-4535-9d04-2f81dfcc8506",
   "metadata": {},
   "outputs": [],
   "source": []
  },
  {
   "cell_type": "code",
   "execution_count": null,
   "id": "ccdea5c0-ad49-4b50-b5a3-26bea6c7ac98",
   "metadata": {},
   "outputs": [],
   "source": []
  },
  {
   "cell_type": "code",
   "execution_count": null,
   "id": "c8aca188-b9a1-4d0c-b499-c795f19f7227",
   "metadata": {},
   "outputs": [],
   "source": []
  }
 ],
 "metadata": {
  "kernelspec": {
   "display_name": "Python [conda env:base] *",
   "language": "python",
   "name": "conda-base-py"
  },
  "language_info": {
   "codemirror_mode": {
    "name": "ipython",
    "version": 3
   },
   "file_extension": ".py",
   "mimetype": "text/x-python",
   "name": "python",
   "nbconvert_exporter": "python",
   "pygments_lexer": "ipython3",
   "version": "3.12.7"
  }
 },
 "nbformat": 4,
 "nbformat_minor": 5
}
