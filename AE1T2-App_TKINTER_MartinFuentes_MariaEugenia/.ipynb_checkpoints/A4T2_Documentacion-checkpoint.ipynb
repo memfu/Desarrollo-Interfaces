{
 "cells": [
  {
   "cell_type": "code",
   "execution_count": 8,
   "id": "d627884d-61cf-44dc-b8c3-9a053503b4e1",
   "metadata": {},
   "outputs": [],
   "source": [
    "def validar_fecha(fecha):\n",
    "        \"\"\" \n",
    "            Esta función verifica que la fecha tenga el formato YYYY-MM-DD y sea válida \n",
    "        \"\"\"\n",
    "        if not re.match(r\"^\\d{4}-\\d{2}-\\d{2}$\", fecha):  # Expresión regular para formato YYYY-MM-DD\n",
    "            return False\n",
    "        try:\n",
    "            datetime.strptime(fecha, \"%Y-%m-%d\")  # Comprueba si la fecha es válida\n",
    "            return True\n",
    "        except ValueError:\n",
    "            return False"
   ]
  },
  {
   "cell_type": "code",
   "execution_count": 10,
   "id": "406670b8-8c6a-4917-9051-d1f0eb1464a2",
   "metadata": {},
   "outputs": [
    {
     "name": "stdout",
     "output_type": "stream",
     "text": [
      "Help on function validar_fecha in module __main__:\n",
      "\n",
      "validar_fecha(fecha)\n",
      "    Esta función verifica que la fecha tenga el formato YYYY-MM-DD y sea válida\n",
      "\n"
     ]
    }
   ],
   "source": [
    "help(validar_fecha)"
   ]
  },
  {
   "cell_type": "code",
   "execution_count": null,
   "id": "b5a40b7e-83fe-4d19-bbcc-38424a40e476",
   "metadata": {},
   "outputs": [],
   "source": [
    "import pydoc\n"
   ]
  },
  {
   "cell_type": "code",
   "execution_count": null,
   "id": "8ed15bef-d450-45ee-9e71-9675666eb5e6",
   "metadata": {},
   "outputs": [],
   "source": []
  },
  {
   "cell_type": "code",
   "execution_count": null,
   "id": "2a25a287-272f-49c9-b23f-4a3b2e9f4e8d",
   "metadata": {},
   "outputs": [],
   "source": []
  },
  {
   "cell_type": "code",
   "execution_count": null,
   "id": "ed20d025-2452-4797-a696-e6440bd1cddc",
   "metadata": {},
   "outputs": [],
   "source": []
  },
  {
   "cell_type": "code",
   "execution_count": null,
   "id": "68bdfba6-1cbb-40ea-babc-6d2639c6d2ff",
   "metadata": {},
   "outputs": [],
   "source": []
  },
  {
   "cell_type": "code",
   "execution_count": null,
   "id": "2ccd4f9d-1fe1-4c88-a756-e7acc816c84b",
   "metadata": {},
   "outputs": [],
   "source": []
  },
  {
   "cell_type": "code",
   "execution_count": null,
   "id": "f024e11c-359d-478a-ace3-e518a00af423",
   "metadata": {},
   "outputs": [],
   "source": []
  }
 ],
 "metadata": {
  "kernelspec": {
   "display_name": "Python [conda env:base] *",
   "language": "python",
   "name": "conda-base-py"
  },
  "language_info": {
   "codemirror_mode": {
    "name": "ipython",
    "version": 3
   },
   "file_extension": ".py",
   "mimetype": "text/x-python",
   "name": "python",
   "nbconvert_exporter": "python",
   "pygments_lexer": "ipython3",
   "version": "3.12.7"
  }
 },
 "nbformat": 4,
 "nbformat_minor": 5
}
